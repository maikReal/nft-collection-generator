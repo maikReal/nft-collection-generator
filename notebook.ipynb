{
 "cells": [
  {
   "cell_type": "code",
   "execution_count": 4,
   "metadata": {},
   "outputs": [],
   "source": [
    "import pandas as pd\n",
    "import os\n",
    "import shutil\n",
    "import json"
   ]
  },
  {
   "cell_type": "code",
   "execution_count": 2,
   "metadata": {},
   "outputs": [],
   "source": [
    "def calculate_nft_distribution(total_addresses):\n",
    "    # Rarity distribution percentages\n",
    "    rarity_distribution = {\n",
    "        'Legend': 0.05,\n",
    "        'Super rare': 0.10,\n",
    "        'Rare': 0.20,\n",
    "        'Regular': 0.65\n",
    "    }\n",
    "\n",
    "    # Calculate the number of NFTs for each rarity level\n",
    "    nft_distribution = {}\n",
    "    for rarity, percentage in rarity_distribution.items():\n",
    "        nft_distribution[rarity] = int(total_addresses * percentage)\n",
    "    \n",
    "    # Adjust the total to make sure it adds up exactly to the total_addresses\n",
    "    distributed_sum = sum(nft_distribution.values())\n",
    "    if distributed_sum < total_addresses:\n",
    "        nft_distribution['Regular'] += total_addresses - distributed_sum\n",
    "\n",
    "    return nft_distribution"
   ]
  },
  {
   "cell_type": "code",
   "execution_count": 6,
   "metadata": {},
   "outputs": [
    {
     "name": "stdout",
     "output_type": "stream",
     "text": [
      "Users from:  giveth\n",
      "Total addresses:  1754\n",
      "Total unique addresses:  1754\n",
      "Rarity distribution for addresses:  {'Legend': 87, 'Super rare': 175, 'Rare': 350, 'Regular': 1142}\n",
      "<--------->\n",
      "\n",
      "Users from:  gitcoin\n",
      "Total addresses:  4243\n",
      "Total unique addresses:  4243\n",
      "Rarity distribution for addresses:  {'Legend': 212, 'Super rare': 424, 'Rare': 848, 'Regular': 2759}\n",
      "<--------->\n",
      "\n",
      "Users from:  rate-campaign\n",
      "Total addresses:  1575\n",
      "Total unique addresses:  1575\n",
      "Rarity distribution for addresses:  {'Legend': 78, 'Super rare': 157, 'Rare': 315, 'Regular': 1025}\n",
      "<--------->\n",
      "\n",
      "Users from:  smolrefuel-campaign\n",
      "Total addresses:  386\n",
      "Total unique addresses:  386\n",
      "Rarity distribution for addresses:  {'Legend': 19, 'Super rare': 38, 'Rare': 77, 'Regular': 252}\n",
      "<--------->\n",
      "\n"
     ]
    }
   ],
   "source": [
    "filenames = ['giveth.txt', 'gitcoin.txt', 'rate-campaign.csv', 'smolrefuel-campaign.csv']\n",
    "\n",
    "for name in filenames:\n",
    "    df = pd.read_csv(name, header=None)\n",
    "    print('Users from: ', name.replace('.csv', '').replace('.txt', ''))\n",
    "    print('Total addresses: ', df.size)\n",
    "    print('Total unique addresses: ', df.drop_duplicates().size)\n",
    "    result = calculate_nft_distribution(df.size)\n",
    "    print('Rarity distribution for addresses: ', result)\n",
    "    print('<--------->')\n",
    "    print()\n"
   ]
  },
  {
   "cell_type": "code",
   "execution_count": 10,
   "metadata": {},
   "outputs": [
    {
     "name": "stdout",
     "output_type": "stream",
     "text": [
      "Images and metadata files created successfully!\n"
     ]
    }
   ],
   "source": [
    "def prepare_images_and_metadata(campaign_name, legend_image, super_rare_image, rare_image, regular_image, number):\n",
    "    # Rarity image paths and duplication amounts\n",
    "    rarity_distribution = {\n",
    "        \"legend\": {\"path\": legend_image, \"count\": number * 0.05, \"folder\": \"collection/Legend\"},\n",
    "        \"super_rare\": {\"path\": super_rare_image, \"count\": number * 0.10, \"folder\": \"collection/Super_Rare\"},\n",
    "        \"rare\": {\"path\": rare_image, \"count\": number * 0.20, \"folder\": \"collection/Rare\"},\n",
    "        \"regular\": {\"path\": regular_image, \"count\": number * 0.65, \"folder\": \"collection/Regular\"}\n",
    "    }\n",
    "\n",
    "    # Ensure base directory exists for each rarity\n",
    "    for rarity, info in rarity_distribution.items():\n",
    "        os.makedirs(info['folder'], exist_ok=True)\n",
    "\n",
    "    # Start naming files from 1\n",
    "    image_counter = 1\n",
    "\n",
    "    # Process each rarity\n",
    "    for rarity, info in rarity_distribution.items():\n",
    "        for i in range(int(info['count'])):\n",
    "            # Generate new file names\n",
    "            image_filename = f\"{image_counter}.jpg\"\n",
    "            image_dest_path = os.path.join(info['folder'], image_filename)\n",
    "\n",
    "            # Copy image to the target folder\n",
    "            shutil.copy(info['path'], image_dest_path)\n",
    "\n",
    "            # Create JSON metadata file\n",
    "            metadata = {\n",
    "                \"attributes\": {\n",
    "                    \"rarity\": rarity,\n",
    "                    \"campaign\": campaign_name\n",
    "                }\n",
    "            }\n",
    "            metadata_filename = f\"{image_counter}.json\"\n",
    "            metadata_path = os.path.join(info['folder'], metadata_filename)\n",
    "            with open(metadata_path, 'w') as json_file:\n",
    "                json.dump(metadata, json_file, indent=4)\n",
    "\n",
    "            # Increment image counter\n",
    "            image_counter += 1\n",
    "\n",
    "    print(\"Images and metadata files created successfully!\")\n",
    "\n",
    "# Example usage\n",
    "prepare_images_and_metadata(\n",
    "    campaign_name=\"emojis\",\n",
    "    legend_image=\"imgs/legend_image.png\",\n",
    "    super_rare_image=\"imgs/super_rare_image.png\",\n",
    "    rare_image=\"imgs/rare_image.png\",\n",
    "    regular_image=\"imgs/regular_image.png\",\n",
    "    number=100  # Total number of images\n",
    ")"
   ]
  },
  {
   "cell_type": "code",
   "execution_count": null,
   "metadata": {},
   "outputs": [],
   "source": []
  },
  {
   "cell_type": "code",
   "execution_count": null,
   "metadata": {},
   "outputs": [],
   "source": []
  },
  {
   "cell_type": "code",
   "execution_count": null,
   "metadata": {},
   "outputs": [],
   "source": []
  }
 ],
 "metadata": {
  "kernelspec": {
   "display_name": "Python 3",
   "language": "python",
   "name": "python3"
  },
  "language_info": {
   "codemirror_mode": {
    "name": "ipython",
    "version": 3
   },
   "file_extension": ".py",
   "mimetype": "text/x-python",
   "name": "python",
   "nbconvert_exporter": "python",
   "pygments_lexer": "ipython3",
   "version": "3.7.6"
  }
 },
 "nbformat": 4,
 "nbformat_minor": 4
}
